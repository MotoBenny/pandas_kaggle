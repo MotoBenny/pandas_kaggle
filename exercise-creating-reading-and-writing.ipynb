{
 "cells": [
  {
   "cell_type": "markdown",
   "id": "93f4afa9",
   "metadata": {
    "papermill": {
     "duration": 0.006187,
     "end_time": "2023-01-24T01:54:06.112357",
     "exception": false,
     "start_time": "2023-01-24T01:54:06.106170",
     "status": "completed"
    },
    "tags": []
   },
   "source": [
    "**This notebook is an exercise in the [Pandas](https://www.kaggle.com/learn/pandas) course.  You can reference the tutorial at [this link](https://www.kaggle.com/residentmario/creating-reading-and-writing).**\n",
    "\n",
    "---\n"
   ]
  },
  {
   "cell_type": "markdown",
   "id": "3c38952c",
   "metadata": {
    "papermill": {
     "duration": 0.004585,
     "end_time": "2023-01-24T01:54:06.122069",
     "exception": false,
     "start_time": "2023-01-24T01:54:06.117484",
     "status": "completed"
    },
    "tags": []
   },
   "source": [
    "# Introduction\n",
    "\n",
    "The first step in most data analytics projects is reading the data file. In this exercise, you'll create Series and DataFrame objects, both by hand and by reading data files.\n",
    "\n",
    "Run the code cell below to load libraries you will need (including code to check your answers)."
   ]
  },
  {
   "cell_type": "code",
   "execution_count": 1,
   "id": "a440b7f5",
   "metadata": {
    "execution": {
     "iopub.execute_input": "2023-01-24T01:54:06.134625Z",
     "iopub.status.busy": "2023-01-24T01:54:06.134056Z",
     "iopub.status.idle": "2023-01-24T01:54:07.933369Z",
     "shell.execute_reply": "2023-01-24T01:54:07.931650Z"
    },
    "papermill": {
     "duration": 1.809813,
     "end_time": "2023-01-24T01:54:07.936822",
     "exception": false,
     "start_time": "2023-01-24T01:54:06.127009",
     "status": "completed"
    },
    "tags": []
   },
   "outputs": [
    {
     "name": "stdout",
     "output_type": "stream",
     "text": [
      "Setup complete.\n"
     ]
    }
   ],
   "source": [
    "import pandas as pd\n",
    "pd.set_option('max_rows', 5)\n",
    "from learntools.core import binder; binder.bind(globals())\n",
    "from learntools.pandas.creating_reading_and_writing import *\n",
    "print(\"Setup complete.\")"
   ]
  },
  {
   "cell_type": "markdown",
   "id": "3a88dfeb",
   "metadata": {
    "papermill": {
     "duration": 0.005142,
     "end_time": "2023-01-24T01:54:07.948398",
     "exception": false,
     "start_time": "2023-01-24T01:54:07.943256",
     "status": "completed"
    },
    "tags": []
   },
   "source": [
    "# Exercises"
   ]
  },
  {
   "cell_type": "markdown",
   "id": "816f7f71",
   "metadata": {
    "papermill": {
     "duration": 0.004821,
     "end_time": "2023-01-24T01:54:07.958473",
     "exception": false,
     "start_time": "2023-01-24T01:54:07.953652",
     "status": "completed"
    },
    "tags": []
   },
   "source": [
    "## 1.\n",
    "\n",
    "In the cell below, create a DataFrame `fruits` that looks like this:\n",
    "\n",
    "![](https://i.imgur.com/Ax3pp2A.png)"
   ]
  },
  {
   "cell_type": "code",
   "execution_count": 2,
   "id": "1727a453",
   "metadata": {
    "execution": {
     "iopub.execute_input": "2023-01-24T01:54:07.970789Z",
     "iopub.status.busy": "2023-01-24T01:54:07.970368Z",
     "iopub.status.idle": "2023-01-24T01:54:07.994936Z",
     "shell.execute_reply": "2023-01-24T01:54:07.993588Z"
    },
    "papermill": {
     "duration": 0.034281,
     "end_time": "2023-01-24T01:54:07.997900",
     "exception": false,
     "start_time": "2023-01-24T01:54:07.963619",
     "status": "completed"
    },
    "tags": []
   },
   "outputs": [
    {
     "data": {
      "application/javascript": [
       "parent.postMessage({\"jupyterEvent\": \"custom.exercise_interaction\", \"data\": {\"outcomeType\": 1, \"valueTowardsCompletion\": 0.16666666666666666, \"interactionType\": 1, \"questionType\": 1, \"questionId\": \"1_FruitDfCreation\", \"learnToolsVersion\": \"0.3.4\", \"failureMessage\": \"\", \"exceptionClass\": \"\", \"trace\": \"\"}}, \"*\")"
      ],
      "text/plain": [
       "<IPython.core.display.Javascript object>"
      ]
     },
     "metadata": {},
     "output_type": "display_data"
    },
    {
     "data": {
      "text/markdown": [
       "<span style=\"color:#33cc33\">Correct</span>"
      ],
      "text/plain": [
       "Correct"
      ]
     },
     "metadata": {},
     "output_type": "display_data"
    },
    {
     "data": {
      "text/html": [
       "<div>\n",
       "<style scoped>\n",
       "    .dataframe tbody tr th:only-of-type {\n",
       "        vertical-align: middle;\n",
       "    }\n",
       "\n",
       "    .dataframe tbody tr th {\n",
       "        vertical-align: top;\n",
       "    }\n",
       "\n",
       "    .dataframe thead th {\n",
       "        text-align: right;\n",
       "    }\n",
       "</style>\n",
       "<table border=\"1\" class=\"dataframe\">\n",
       "  <thead>\n",
       "    <tr style=\"text-align: right;\">\n",
       "      <th></th>\n",
       "      <th>Apples</th>\n",
       "      <th>Bananas</th>\n",
       "    </tr>\n",
       "  </thead>\n",
       "  <tbody>\n",
       "    <tr>\n",
       "      <th>0</th>\n",
       "      <td>30</td>\n",
       "      <td>21</td>\n",
       "    </tr>\n",
       "  </tbody>\n",
       "</table>\n",
       "</div>"
      ],
      "text/plain": [
       "   Apples  Bananas\n",
       "0      30       21"
      ]
     },
     "execution_count": 2,
     "metadata": {},
     "output_type": "execute_result"
    }
   ],
   "source": [
    "# Your code goes here. Create a dataframe matching the above diagram and assign it to the variable fruits.\n",
    "fruits = pd.DataFrame({\n",
    "    \"Apples\" : [30],\n",
    "    \"Bananas\" : [21]\n",
    "})\n",
    "\n",
    "# Check your answer\n",
    "q1.check()\n",
    "fruits"
   ]
  },
  {
   "cell_type": "code",
   "execution_count": 3,
   "id": "360ace02",
   "metadata": {
    "execution": {
     "iopub.execute_input": "2023-01-24T01:54:08.014405Z",
     "iopub.status.busy": "2023-01-24T01:54:08.014010Z",
     "iopub.status.idle": "2023-01-24T01:54:08.018837Z",
     "shell.execute_reply": "2023-01-24T01:54:08.017503Z"
    },
    "papermill": {
     "duration": 0.014552,
     "end_time": "2023-01-24T01:54:08.021271",
     "exception": false,
     "start_time": "2023-01-24T01:54:08.006719",
     "status": "completed"
    },
    "tags": []
   },
   "outputs": [],
   "source": [
    "#q1.hint()\n",
    "#q1.solution()"
   ]
  },
  {
   "cell_type": "markdown",
   "id": "f0714600",
   "metadata": {
    "papermill": {
     "duration": 0.005303,
     "end_time": "2023-01-24T01:54:08.032162",
     "exception": false,
     "start_time": "2023-01-24T01:54:08.026859",
     "status": "completed"
    },
    "tags": []
   },
   "source": [
    "## 2.\n",
    "\n",
    "Create a dataframe `fruit_sales` that matches the diagram below:\n",
    "\n",
    "![](https://i.imgur.com/CHPn7ZF.png)"
   ]
  },
  {
   "cell_type": "code",
   "execution_count": 4,
   "id": "16c39120",
   "metadata": {
    "execution": {
     "iopub.execute_input": "2023-01-24T01:54:08.045257Z",
     "iopub.status.busy": "2023-01-24T01:54:08.044793Z",
     "iopub.status.idle": "2023-01-24T01:54:08.064883Z",
     "shell.execute_reply": "2023-01-24T01:54:08.063506Z"
    },
    "papermill": {
     "duration": 0.029504,
     "end_time": "2023-01-24T01:54:08.067261",
     "exception": false,
     "start_time": "2023-01-24T01:54:08.037757",
     "status": "completed"
    },
    "tags": []
   },
   "outputs": [
    {
     "data": {
      "application/javascript": [
       "parent.postMessage({\"jupyterEvent\": \"custom.exercise_interaction\", \"data\": {\"outcomeType\": 1, \"valueTowardsCompletion\": 0.16666666666666666, \"interactionType\": 1, \"questionType\": 1, \"questionId\": \"2_FruitSalesDfCreation\", \"learnToolsVersion\": \"0.3.4\", \"failureMessage\": \"\", \"exceptionClass\": \"\", \"trace\": \"\"}}, \"*\")"
      ],
      "text/plain": [
       "<IPython.core.display.Javascript object>"
      ]
     },
     "metadata": {},
     "output_type": "display_data"
    },
    {
     "data": {
      "text/markdown": [
       "<span style=\"color:#33cc33\">Correct</span>"
      ],
      "text/plain": [
       "Correct"
      ]
     },
     "metadata": {},
     "output_type": "display_data"
    },
    {
     "data": {
      "text/html": [
       "<div>\n",
       "<style scoped>\n",
       "    .dataframe tbody tr th:only-of-type {\n",
       "        vertical-align: middle;\n",
       "    }\n",
       "\n",
       "    .dataframe tbody tr th {\n",
       "        vertical-align: top;\n",
       "    }\n",
       "\n",
       "    .dataframe thead th {\n",
       "        text-align: right;\n",
       "    }\n",
       "</style>\n",
       "<table border=\"1\" class=\"dataframe\">\n",
       "  <thead>\n",
       "    <tr style=\"text-align: right;\">\n",
       "      <th></th>\n",
       "      <th>Apples</th>\n",
       "      <th>Bananas</th>\n",
       "    </tr>\n",
       "  </thead>\n",
       "  <tbody>\n",
       "    <tr>\n",
       "      <th>2017 Sales</th>\n",
       "      <td>35</td>\n",
       "      <td>21</td>\n",
       "    </tr>\n",
       "    <tr>\n",
       "      <th>2018 Sales</th>\n",
       "      <td>41</td>\n",
       "      <td>34</td>\n",
       "    </tr>\n",
       "  </tbody>\n",
       "</table>\n",
       "</div>"
      ],
      "text/plain": [
       "            Apples  Bananas\n",
       "2017 Sales      35       21\n",
       "2018 Sales      41       34"
      ]
     },
     "execution_count": 4,
     "metadata": {},
     "output_type": "execute_result"
    }
   ],
   "source": [
    "# Your code goes here. Create a dataframe matching the above diagram and assign it to the variable fruit_sales.\n",
    "fruit_sales = pd.DataFrame({\n",
    "    \"Apples\" : [35, 41],\n",
    "    \"Bananas\" : [21, 34]\n",
    "}) # dictionary, Key:string(column label) : Value:list(whatever relevant datatype)\n",
    "\n",
    "fruit_sales.index = [\"2017 Sales\", \"2018 Sales\"] # using df.index we can label the rows\n",
    "\n",
    "# Check your answer\n",
    "q2.check()\n",
    "fruit_sales"
   ]
  },
  {
   "cell_type": "code",
   "execution_count": 5,
   "id": "8c96576f",
   "metadata": {
    "execution": {
     "iopub.execute_input": "2023-01-24T01:54:08.081551Z",
     "iopub.status.busy": "2023-01-24T01:54:08.081099Z",
     "iopub.status.idle": "2023-01-24T01:54:08.085023Z",
     "shell.execute_reply": "2023-01-24T01:54:08.084144Z"
    },
    "papermill": {
     "duration": 0.013911,
     "end_time": "2023-01-24T01:54:08.087251",
     "exception": false,
     "start_time": "2023-01-24T01:54:08.073340",
     "status": "completed"
    },
    "tags": []
   },
   "outputs": [],
   "source": [
    "#q2.hint()\n",
    "#q2.solution()"
   ]
  },
  {
   "cell_type": "markdown",
   "id": "c3606780",
   "metadata": {
    "papermill": {
     "duration": 0.005843,
     "end_time": "2023-01-24T01:54:08.099561",
     "exception": false,
     "start_time": "2023-01-24T01:54:08.093718",
     "status": "completed"
    },
    "tags": []
   },
   "source": [
    "## 3.\n",
    "\n",
    "Create a variable `ingredients` with a Series that looks like:\n",
    "\n",
    "```\n",
    "Flour     4 cups\n",
    "Milk       1 cup\n",
    "Eggs     2 large\n",
    "Spam       1 can\n",
    "Name: Dinner, dtype: object\n",
    "```"
   ]
  },
  {
   "cell_type": "code",
   "execution_count": 6,
   "id": "56b7d606",
   "metadata": {
    "execution": {
     "iopub.execute_input": "2023-01-24T01:54:08.114488Z",
     "iopub.status.busy": "2023-01-24T01:54:08.113629Z",
     "iopub.status.idle": "2023-01-24T01:54:08.127158Z",
     "shell.execute_reply": "2023-01-24T01:54:08.125967Z"
    },
    "papermill": {
     "duration": 0.02416,
     "end_time": "2023-01-24T01:54:08.129731",
     "exception": false,
     "start_time": "2023-01-24T01:54:08.105571",
     "status": "completed"
    },
    "tags": []
   },
   "outputs": [
    {
     "data": {
      "application/javascript": [
       "parent.postMessage({\"jupyterEvent\": \"custom.exercise_interaction\", \"data\": {\"outcomeType\": 1, \"valueTowardsCompletion\": 0.16666666666666666, \"interactionType\": 1, \"questionType\": 2, \"questionId\": \"3_RecipeSeriesCreation\", \"learnToolsVersion\": \"0.3.4\", \"failureMessage\": \"\", \"exceptionClass\": \"\", \"trace\": \"\"}}, \"*\")"
      ],
      "text/plain": [
       "<IPython.core.display.Javascript object>"
      ]
     },
     "metadata": {},
     "output_type": "display_data"
    },
    {
     "data": {
      "text/markdown": [
       "<span style=\"color:#33cc33\">Correct</span>"
      ],
      "text/plain": [
       "Correct"
      ]
     },
     "metadata": {},
     "output_type": "display_data"
    },
    {
     "data": {
      "text/plain": [
       "Flour     4 cups\n",
       "Milk       1 cup\n",
       "Eggs     2 large\n",
       "Spam       1 can\n",
       "Name: Dinner, dtype: object"
      ]
     },
     "execution_count": 6,
     "metadata": {},
     "output_type": "execute_result"
    }
   ],
   "source": [
    "ingredients = pd.Series([\"4 cups\", \"1 cup\", \"2 large\", \"1 can\"], index=[\"Flour\", \"Milk\", \"Eggs\", \"Spam\"], name=\"Dinner\")\n",
    "\n",
    "# Check your answer\n",
    "q3.check()\n",
    "ingredients"
   ]
  },
  {
   "cell_type": "code",
   "execution_count": 7,
   "id": "8e208808",
   "metadata": {
    "execution": {
     "iopub.execute_input": "2023-01-24T01:54:08.144574Z",
     "iopub.status.busy": "2023-01-24T01:54:08.144137Z",
     "iopub.status.idle": "2023-01-24T01:54:08.148796Z",
     "shell.execute_reply": "2023-01-24T01:54:08.147658Z"
    },
    "papermill": {
     "duration": 0.014949,
     "end_time": "2023-01-24T01:54:08.151192",
     "exception": false,
     "start_time": "2023-01-24T01:54:08.136243",
     "status": "completed"
    },
    "tags": []
   },
   "outputs": [],
   "source": [
    "#q3.hint()\n",
    "#q3.solution()"
   ]
  },
  {
   "cell_type": "markdown",
   "id": "42d208eb",
   "metadata": {
    "papermill": {
     "duration": 0.006038,
     "end_time": "2023-01-24T01:54:08.163818",
     "exception": false,
     "start_time": "2023-01-24T01:54:08.157780",
     "status": "completed"
    },
    "tags": []
   },
   "source": [
    "## 4.\n",
    "\n",
    "Read the following csv dataset of wine reviews into a DataFrame called `reviews`:\n",
    "\n",
    "![](https://i.imgur.com/74RCZtU.png)\n",
    "\n",
    "The filepath to the csv file is `../input/wine-reviews/winemag-data_first150k.csv`. The first few lines look like:\n",
    "\n",
    "```\n",
    ",country,description,designation,points,price,province,region_1,region_2,variety,winery\n",
    "0,US,\"This tremendous 100% varietal wine[...]\",Martha's Vineyard,96,235.0,California,Napa Valley,Napa,Cabernet Sauvignon,Heitz\n",
    "1,Spain,\"Ripe aromas of fig, blackberry and[...]\",Carodorum Selección Especial Reserva,96,110.0,Northern Spain,Toro,,Tinta de Toro,Bodega Carmen Rodríguez\n",
    "```"
   ]
  },
  {
   "cell_type": "code",
   "execution_count": 8,
   "id": "f13f5c6f",
   "metadata": {
    "execution": {
     "iopub.execute_input": "2023-01-24T01:54:08.179577Z",
     "iopub.status.busy": "2023-01-24T01:54:08.179047Z",
     "iopub.status.idle": "2023-01-24T01:54:08.192132Z",
     "shell.execute_reply": "2023-01-24T01:54:08.190832Z"
    },
    "papermill": {
     "duration": 0.023434,
     "end_time": "2023-01-24T01:54:08.194598",
     "exception": false,
     "start_time": "2023-01-24T01:54:08.171164",
     "status": "completed"
    },
    "tags": []
   },
   "outputs": [
    {
     "data": {
      "application/javascript": [
       "parent.postMessage({\"jupyterEvent\": \"custom.exercise_interaction\", \"data\": {\"outcomeType\": 4, \"interactionType\": 1, \"questionType\": 1, \"questionId\": \"4_ReadWineCsv\", \"learnToolsVersion\": \"0.3.4\", \"valueTowardsCompletion\": 0.0, \"failureMessage\": \"\", \"exceptionClass\": \"\", \"trace\": \"\"}}, \"*\")"
      ],
      "text/plain": [
       "<IPython.core.display.Javascript object>"
      ]
     },
     "metadata": {},
     "output_type": "display_data"
    },
    {
     "data": {
      "text/markdown": [
       "<span style=\"color:#ccaa33\">Check:</span> When you've updated the starter code, `check()` will tell you whether your code is correct. You need to update the code that creates variable `reviews`"
      ],
      "text/plain": [
       "Check: When you've updated the starter code, `check()` will tell you whether your code is correct. You need to update the code that creates variable `reviews`"
      ]
     },
     "metadata": {},
     "output_type": "display_data"
    },
    {
     "data": {
      "text/markdown": [],
      "text/plain": [
       "<learntools.core.constants.PlaceholderValue at 0x7f2410eec490>"
      ]
     },
     "execution_count": 8,
     "metadata": {},
     "output_type": "execute_result"
    }
   ],
   "source": [
    "reviews = ____\n",
    "\n",
    "# Check your answer\n",
    "q4.check()\n",
    "reviews"
   ]
  },
  {
   "cell_type": "code",
   "execution_count": 9,
   "id": "b9d94245",
   "metadata": {
    "execution": {
     "iopub.execute_input": "2023-01-24T01:54:08.209963Z",
     "iopub.status.busy": "2023-01-24T01:54:08.209580Z",
     "iopub.status.idle": "2023-01-24T01:54:08.213636Z",
     "shell.execute_reply": "2023-01-24T01:54:08.212484Z"
    },
    "papermill": {
     "duration": 0.014822,
     "end_time": "2023-01-24T01:54:08.216175",
     "exception": false,
     "start_time": "2023-01-24T01:54:08.201353",
     "status": "completed"
    },
    "tags": []
   },
   "outputs": [],
   "source": [
    "#q4.hint()\n",
    "#q4.solution()"
   ]
  },
  {
   "cell_type": "markdown",
   "id": "03c3f6b9",
   "metadata": {
    "papermill": {
     "duration": 0.006391,
     "end_time": "2023-01-24T01:54:08.229407",
     "exception": false,
     "start_time": "2023-01-24T01:54:08.223016",
     "status": "completed"
    },
    "tags": []
   },
   "source": [
    "## 5.\n",
    "\n",
    "Run the cell below to create and display a DataFrame called `animals`:"
   ]
  },
  {
   "cell_type": "code",
   "execution_count": 10,
   "id": "7672d5b1",
   "metadata": {
    "execution": {
     "iopub.execute_input": "2023-01-24T01:54:08.246351Z",
     "iopub.status.busy": "2023-01-24T01:54:08.244793Z",
     "iopub.status.idle": "2023-01-24T01:54:08.257574Z",
     "shell.execute_reply": "2023-01-24T01:54:08.256382Z"
    },
    "papermill": {
     "duration": 0.023596,
     "end_time": "2023-01-24T01:54:08.260177",
     "exception": false,
     "start_time": "2023-01-24T01:54:08.236581",
     "status": "completed"
    },
    "tags": []
   },
   "outputs": [
    {
     "data": {
      "text/html": [
       "<div>\n",
       "<style scoped>\n",
       "    .dataframe tbody tr th:only-of-type {\n",
       "        vertical-align: middle;\n",
       "    }\n",
       "\n",
       "    .dataframe tbody tr th {\n",
       "        vertical-align: top;\n",
       "    }\n",
       "\n",
       "    .dataframe thead th {\n",
       "        text-align: right;\n",
       "    }\n",
       "</style>\n",
       "<table border=\"1\" class=\"dataframe\">\n",
       "  <thead>\n",
       "    <tr style=\"text-align: right;\">\n",
       "      <th></th>\n",
       "      <th>Cows</th>\n",
       "      <th>Goats</th>\n",
       "    </tr>\n",
       "  </thead>\n",
       "  <tbody>\n",
       "    <tr>\n",
       "      <th>Year 1</th>\n",
       "      <td>12</td>\n",
       "      <td>22</td>\n",
       "    </tr>\n",
       "    <tr>\n",
       "      <th>Year 2</th>\n",
       "      <td>20</td>\n",
       "      <td>19</td>\n",
       "    </tr>\n",
       "  </tbody>\n",
       "</table>\n",
       "</div>"
      ],
      "text/plain": [
       "        Cows  Goats\n",
       "Year 1    12     22\n",
       "Year 2    20     19"
      ]
     },
     "execution_count": 10,
     "metadata": {},
     "output_type": "execute_result"
    }
   ],
   "source": [
    "animals = pd.DataFrame({'Cows': [12, 20], 'Goats': [22, 19]}, index=['Year 1', 'Year 2'])\n",
    "animals"
   ]
  },
  {
   "cell_type": "markdown",
   "id": "236f347b",
   "metadata": {
    "papermill": {
     "duration": 0.006684,
     "end_time": "2023-01-24T01:54:08.274251",
     "exception": false,
     "start_time": "2023-01-24T01:54:08.267567",
     "status": "completed"
    },
    "tags": []
   },
   "source": [
    "In the cell below, write code to save this DataFrame to disk as a csv file with the name `cows_and_goats.csv`."
   ]
  },
  {
   "cell_type": "code",
   "execution_count": 11,
   "id": "750f13a2",
   "metadata": {
    "execution": {
     "iopub.execute_input": "2023-01-24T01:54:08.290603Z",
     "iopub.status.busy": "2023-01-24T01:54:08.290064Z",
     "iopub.status.idle": "2023-01-24T01:54:08.300433Z",
     "shell.execute_reply": "2023-01-24T01:54:08.299021Z"
    },
    "papermill": {
     "duration": 0.021608,
     "end_time": "2023-01-24T01:54:08.302838",
     "exception": false,
     "start_time": "2023-01-24T01:54:08.281230",
     "status": "completed"
    },
    "tags": []
   },
   "outputs": [
    {
     "data": {
      "application/javascript": [
       "parent.postMessage({\"jupyterEvent\": \"custom.exercise_interaction\", \"data\": {\"outcomeType\": 2, \"failureMessage\": \"Expected file to exist with name `cows_and_goats.csv`\", \"interactionType\": 1, \"questionType\": 2, \"questionId\": \"5_SaveAnimalsCsv\", \"learnToolsVersion\": \"0.3.4\", \"valueTowardsCompletion\": 0.0, \"exceptionClass\": \"\", \"trace\": \"\"}}, \"*\")"
      ],
      "text/plain": [
       "<IPython.core.display.Javascript object>"
      ]
     },
     "metadata": {},
     "output_type": "display_data"
    },
    {
     "data": {
      "text/markdown": [
       "<span style=\"color:#cc3333\">Incorrect:</span> Expected file to exist with name `cows_and_goats.csv`"
      ],
      "text/plain": [
       "Incorrect: Expected file to exist with name `cows_and_goats.csv`"
      ]
     },
     "metadata": {},
     "output_type": "display_data"
    }
   ],
   "source": [
    "# Your code goes here\n",
    "\n",
    "# Check your answer\n",
    "q5.check()"
   ]
  },
  {
   "cell_type": "code",
   "execution_count": 12,
   "id": "d757e9a2",
   "metadata": {
    "execution": {
     "iopub.execute_input": "2023-01-24T01:54:08.319589Z",
     "iopub.status.busy": "2023-01-24T01:54:08.319060Z",
     "iopub.status.idle": "2023-01-24T01:54:08.324466Z",
     "shell.execute_reply": "2023-01-24T01:54:08.323285Z"
    },
    "papermill": {
     "duration": 0.016978,
     "end_time": "2023-01-24T01:54:08.326994",
     "exception": false,
     "start_time": "2023-01-24T01:54:08.310016",
     "status": "completed"
    },
    "tags": []
   },
   "outputs": [],
   "source": [
    "#q5.hint()\n",
    "#q5.solution()"
   ]
  },
  {
   "cell_type": "markdown",
   "id": "723141eb",
   "metadata": {
    "papermill": {
     "duration": 0.006971,
     "end_time": "2023-01-24T01:54:08.341581",
     "exception": false,
     "start_time": "2023-01-24T01:54:08.334610",
     "status": "completed"
    },
    "tags": []
   },
   "source": [
    "# Keep going\n",
    "\n",
    "Move on to learn about **[indexing, selecting and assigning](https://www.kaggle.com/residentmario/indexing-selecting-assigning)**."
   ]
  },
  {
   "cell_type": "markdown",
   "id": "b90203ae",
   "metadata": {
    "papermill": {
     "duration": 0.006811,
     "end_time": "2023-01-24T01:54:08.355701",
     "exception": false,
     "start_time": "2023-01-24T01:54:08.348890",
     "status": "completed"
    },
    "tags": []
   },
   "source": [
    "---\n",
    "\n",
    "\n",
    "\n",
    "\n",
    "*Have questions or comments? Visit the [course discussion forum](https://www.kaggle.com/learn/pandas/discussion) to chat with other learners.*"
   ]
  }
 ],
 "metadata": {
  "kernelspec": {
   "display_name": "Python 3",
   "language": "python",
   "name": "python3"
  },
  "language_info": {
   "codemirror_mode": {
    "name": "ipython",
    "version": 3
   },
   "file_extension": ".py",
   "mimetype": "text/x-python",
   "name": "python",
   "nbconvert_exporter": "python",
   "pygments_lexer": "ipython3",
   "version": "3.7.12"
  },
  "papermill": {
   "default_parameters": {},
   "duration": 12.572277,
   "end_time": "2023-01-24T01:54:09.086603",
   "environment_variables": {},
   "exception": null,
   "input_path": "__notebook__.ipynb",
   "output_path": "__notebook__.ipynb",
   "parameters": {},
   "start_time": "2023-01-24T01:53:56.514326",
   "version": "2.3.4"
  }
 },
 "nbformat": 4,
 "nbformat_minor": 5
}
