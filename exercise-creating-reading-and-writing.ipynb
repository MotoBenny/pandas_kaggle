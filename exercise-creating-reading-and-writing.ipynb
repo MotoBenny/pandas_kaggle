{
 "cells": [
  {
   "cell_type": "markdown",
   "id": "faa4592d",
   "metadata": {
    "papermill": {
     "duration": 0.005224,
     "end_time": "2023-01-24T01:45:39.833304",
     "exception": false,
     "start_time": "2023-01-24T01:45:39.828080",
     "status": "completed"
    },
    "tags": []
   },
   "source": [
    "**This notebook is an exercise in the [Pandas](https://www.kaggle.com/learn/pandas) course.  You can reference the tutorial at [this link](https://www.kaggle.com/residentmario/creating-reading-and-writing).**\n",
    "\n",
    "---\n"
   ]
  },
  {
   "cell_type": "markdown",
   "id": "05d758f0",
   "metadata": {
    "papermill": {
     "duration": 0.003715,
     "end_time": "2023-01-24T01:45:39.841193",
     "exception": false,
     "start_time": "2023-01-24T01:45:39.837478",
     "status": "completed"
    },
    "tags": []
   },
   "source": [
    "# Introduction\n",
    "\n",
    "The first step in most data analytics projects is reading the data file. In this exercise, you'll create Series and DataFrame objects, both by hand and by reading data files.\n",
    "\n",
    "Run the code cell below to load libraries you will need (including code to check your answers)."
   ]
  },
  {
   "cell_type": "code",
   "execution_count": 1,
   "id": "fb9fe996",
   "metadata": {
    "execution": {
     "iopub.execute_input": "2023-01-24T01:45:39.851322Z",
     "iopub.status.busy": "2023-01-24T01:45:39.850634Z",
     "iopub.status.idle": "2023-01-24T01:45:41.392733Z",
     "shell.execute_reply": "2023-01-24T01:45:41.391617Z"
    },
    "papermill": {
     "duration": 1.550079,
     "end_time": "2023-01-24T01:45:41.395192",
     "exception": false,
     "start_time": "2023-01-24T01:45:39.845113",
     "status": "completed"
    },
    "tags": []
   },
   "outputs": [
    {
     "name": "stdout",
     "output_type": "stream",
     "text": [
      "Setup complete.\n"
     ]
    }
   ],
   "source": [
    "import pandas as pd\n",
    "pd.set_option('max_rows', 5)\n",
    "from learntools.core import binder; binder.bind(globals())\n",
    "from learntools.pandas.creating_reading_and_writing import *\n",
    "print(\"Setup complete.\")"
   ]
  },
  {
   "cell_type": "markdown",
   "id": "4cf5f7a0",
   "metadata": {
    "papermill": {
     "duration": 0.004211,
     "end_time": "2023-01-24T01:45:41.406994",
     "exception": false,
     "start_time": "2023-01-24T01:45:41.402783",
     "status": "completed"
    },
    "tags": []
   },
   "source": [
    "# Exercises"
   ]
  },
  {
   "cell_type": "markdown",
   "id": "a703dba3",
   "metadata": {
    "papermill": {
     "duration": 0.003814,
     "end_time": "2023-01-24T01:45:41.415133",
     "exception": false,
     "start_time": "2023-01-24T01:45:41.411319",
     "status": "completed"
    },
    "tags": []
   },
   "source": [
    "## 1.\n",
    "\n",
    "In the cell below, create a DataFrame `fruits` that looks like this:\n",
    "\n",
    "![](https://i.imgur.com/Ax3pp2A.png)"
   ]
  },
  {
   "cell_type": "code",
   "execution_count": 2,
   "id": "360f606e",
   "metadata": {
    "execution": {
     "iopub.execute_input": "2023-01-24T01:45:41.424816Z",
     "iopub.status.busy": "2023-01-24T01:45:41.424457Z",
     "iopub.status.idle": "2023-01-24T01:45:41.451224Z",
     "shell.execute_reply": "2023-01-24T01:45:41.449769Z"
    },
    "papermill": {
     "duration": 0.034139,
     "end_time": "2023-01-24T01:45:41.453299",
     "exception": false,
     "start_time": "2023-01-24T01:45:41.419160",
     "status": "completed"
    },
    "tags": []
   },
   "outputs": [
    {
     "data": {
      "application/javascript": [
       "parent.postMessage({\"jupyterEvent\": \"custom.exercise_interaction\", \"data\": {\"outcomeType\": 1, \"valueTowardsCompletion\": 0.16666666666666666, \"interactionType\": 1, \"questionType\": 1, \"questionId\": \"1_FruitDfCreation\", \"learnToolsVersion\": \"0.3.4\", \"failureMessage\": \"\", \"exceptionClass\": \"\", \"trace\": \"\"}}, \"*\")"
      ],
      "text/plain": [
       "<IPython.core.display.Javascript object>"
      ]
     },
     "metadata": {},
     "output_type": "display_data"
    },
    {
     "data": {
      "text/markdown": [
       "<span style=\"color:#33cc33\">Correct</span>"
      ],
      "text/plain": [
       "Correct"
      ]
     },
     "metadata": {},
     "output_type": "display_data"
    },
    {
     "data": {
      "text/html": [
       "<div>\n",
       "<style scoped>\n",
       "    .dataframe tbody tr th:only-of-type {\n",
       "        vertical-align: middle;\n",
       "    }\n",
       "\n",
       "    .dataframe tbody tr th {\n",
       "        vertical-align: top;\n",
       "    }\n",
       "\n",
       "    .dataframe thead th {\n",
       "        text-align: right;\n",
       "    }\n",
       "</style>\n",
       "<table border=\"1\" class=\"dataframe\">\n",
       "  <thead>\n",
       "    <tr style=\"text-align: right;\">\n",
       "      <th></th>\n",
       "      <th>Apples</th>\n",
       "      <th>Bananas</th>\n",
       "    </tr>\n",
       "  </thead>\n",
       "  <tbody>\n",
       "    <tr>\n",
       "      <th>0</th>\n",
       "      <td>30</td>\n",
       "      <td>21</td>\n",
       "    </tr>\n",
       "  </tbody>\n",
       "</table>\n",
       "</div>"
      ],
      "text/plain": [
       "   Apples  Bananas\n",
       "0      30       21"
      ]
     },
     "execution_count": 2,
     "metadata": {},
     "output_type": "execute_result"
    }
   ],
   "source": [
    "# Your code goes here. Create a dataframe matching the above diagram and assign it to the variable fruits.\n",
    "fruits = pd.DataFrame({\n",
    "    \"Apples\" : [30],\n",
    "    \"Bananas\" : [21]\n",
    "})\n",
    "\n",
    "# Check your answer\n",
    "q1.check()\n",
    "fruits"
   ]
  },
  {
   "cell_type": "code",
   "execution_count": 3,
   "id": "83a28ab7",
   "metadata": {
    "execution": {
     "iopub.execute_input": "2023-01-24T01:45:41.465421Z",
     "iopub.status.busy": "2023-01-24T01:45:41.463974Z",
     "iopub.status.idle": "2023-01-24T01:45:41.469184Z",
     "shell.execute_reply": "2023-01-24T01:45:41.468357Z"
    },
    "papermill": {
     "duration": 0.013178,
     "end_time": "2023-01-24T01:45:41.471392",
     "exception": false,
     "start_time": "2023-01-24T01:45:41.458214",
     "status": "completed"
    },
    "tags": []
   },
   "outputs": [],
   "source": [
    "#q1.hint()\n",
    "#q1.solution()"
   ]
  },
  {
   "cell_type": "markdown",
   "id": "383836dc",
   "metadata": {
    "papermill": {
     "duration": 0.004311,
     "end_time": "2023-01-24T01:45:41.480610",
     "exception": false,
     "start_time": "2023-01-24T01:45:41.476299",
     "status": "completed"
    },
    "tags": []
   },
   "source": [
    "## 2.\n",
    "\n",
    "Create a dataframe `fruit_sales` that matches the diagram below:\n",
    "\n",
    "![](https://i.imgur.com/CHPn7ZF.png)"
   ]
  },
  {
   "cell_type": "code",
   "execution_count": 4,
   "id": "5ce436f3",
   "metadata": {
    "execution": {
     "iopub.execute_input": "2023-01-24T01:45:41.491322Z",
     "iopub.status.busy": "2023-01-24T01:45:41.490961Z",
     "iopub.status.idle": "2023-01-24T01:45:41.501631Z",
     "shell.execute_reply": "2023-01-24T01:45:41.500517Z"
    },
    "papermill": {
     "duration": 0.018944,
     "end_time": "2023-01-24T01:45:41.504089",
     "exception": false,
     "start_time": "2023-01-24T01:45:41.485145",
     "status": "completed"
    },
    "tags": []
   },
   "outputs": [
    {
     "data": {
      "application/javascript": [
       "parent.postMessage({\"jupyterEvent\": \"custom.exercise_interaction\", \"data\": {\"outcomeType\": 4, \"interactionType\": 1, \"questionType\": 1, \"questionId\": \"2_FruitSalesDfCreation\", \"learnToolsVersion\": \"0.3.4\", \"valueTowardsCompletion\": 0.0, \"failureMessage\": \"\", \"exceptionClass\": \"\", \"trace\": \"\"}}, \"*\")"
      ],
      "text/plain": [
       "<IPython.core.display.Javascript object>"
      ]
     },
     "metadata": {},
     "output_type": "display_data"
    },
    {
     "data": {
      "text/markdown": [
       "<span style=\"color:#ccaa33\">Check:</span> When you've updated the starter code, `check()` will tell you whether your code is correct. You need to update the code that creates variable `fruit_sales`"
      ],
      "text/plain": [
       "Check: When you've updated the starter code, `check()` will tell you whether your code is correct. You need to update the code that creates variable `fruit_sales`"
      ]
     },
     "metadata": {},
     "output_type": "display_data"
    },
    {
     "data": {
      "text/markdown": [],
      "text/plain": [
       "<learntools.core.constants.PlaceholderValue at 0x7f16e5161550>"
      ]
     },
     "execution_count": 4,
     "metadata": {},
     "output_type": "execute_result"
    }
   ],
   "source": [
    "# Your code goes here. Create a dataframe matching the above diagram and assign it to the variable fruit_sales.\n",
    "fruit_sales = ____\n",
    "\n",
    "# Check your answer\n",
    "q2.check()\n",
    "fruit_sales"
   ]
  },
  {
   "cell_type": "code",
   "execution_count": 5,
   "id": "22e5e612",
   "metadata": {
    "execution": {
     "iopub.execute_input": "2023-01-24T01:45:41.516411Z",
     "iopub.status.busy": "2023-01-24T01:45:41.515998Z",
     "iopub.status.idle": "2023-01-24T01:45:41.520872Z",
     "shell.execute_reply": "2023-01-24T01:45:41.519450Z"
    },
    "papermill": {
     "duration": 0.014193,
     "end_time": "2023-01-24T01:45:41.523507",
     "exception": false,
     "start_time": "2023-01-24T01:45:41.509314",
     "status": "completed"
    },
    "tags": []
   },
   "outputs": [],
   "source": [
    "#q2.hint()\n",
    "#q2.solution()"
   ]
  },
  {
   "cell_type": "markdown",
   "id": "11bbcd9f",
   "metadata": {
    "papermill": {
     "duration": 0.00471,
     "end_time": "2023-01-24T01:45:41.533537",
     "exception": false,
     "start_time": "2023-01-24T01:45:41.528827",
     "status": "completed"
    },
    "tags": []
   },
   "source": [
    "## 3.\n",
    "\n",
    "Create a variable `ingredients` with a Series that looks like:\n",
    "\n",
    "```\n",
    "Flour     4 cups\n",
    "Milk       1 cup\n",
    "Eggs     2 large\n",
    "Spam       1 can\n",
    "Name: Dinner, dtype: object\n",
    "```"
   ]
  },
  {
   "cell_type": "code",
   "execution_count": 6,
   "id": "f727d6ad",
   "metadata": {
    "execution": {
     "iopub.execute_input": "2023-01-24T01:45:41.545552Z",
     "iopub.status.busy": "2023-01-24T01:45:41.545054Z",
     "iopub.status.idle": "2023-01-24T01:45:41.555191Z",
     "shell.execute_reply": "2023-01-24T01:45:41.554132Z"
    },
    "papermill": {
     "duration": 0.019257,
     "end_time": "2023-01-24T01:45:41.557700",
     "exception": false,
     "start_time": "2023-01-24T01:45:41.538443",
     "status": "completed"
    },
    "tags": []
   },
   "outputs": [
    {
     "data": {
      "application/javascript": [
       "parent.postMessage({\"jupyterEvent\": \"custom.exercise_interaction\", \"data\": {\"outcomeType\": 4, \"interactionType\": 1, \"questionType\": 2, \"questionId\": \"3_RecipeSeriesCreation\", \"learnToolsVersion\": \"0.3.4\", \"valueTowardsCompletion\": 0.0, \"failureMessage\": \"\", \"exceptionClass\": \"\", \"trace\": \"\"}}, \"*\")"
      ],
      "text/plain": [
       "<IPython.core.display.Javascript object>"
      ]
     },
     "metadata": {},
     "output_type": "display_data"
    },
    {
     "data": {
      "text/markdown": [
       "<span style=\"color:#ccaa33\">Check:</span> When you've updated the starter code, `check()` will tell you whether your code is correct. You need to update the code that creates variable `ingredients`"
      ],
      "text/plain": [
       "Check: When you've updated the starter code, `check()` will tell you whether your code is correct. You need to update the code that creates variable `ingredients`"
      ]
     },
     "metadata": {},
     "output_type": "display_data"
    },
    {
     "data": {
      "text/markdown": [],
      "text/plain": [
       "<learntools.core.constants.PlaceholderValue at 0x7f16e5161550>"
      ]
     },
     "execution_count": 6,
     "metadata": {},
     "output_type": "execute_result"
    }
   ],
   "source": [
    "ingredients = ____\n",
    "\n",
    "# Check your answer\n",
    "q3.check()\n",
    "ingredients"
   ]
  },
  {
   "cell_type": "code",
   "execution_count": 7,
   "id": "6ab28593",
   "metadata": {
    "execution": {
     "iopub.execute_input": "2023-01-24T01:45:41.570462Z",
     "iopub.status.busy": "2023-01-24T01:45:41.570074Z",
     "iopub.status.idle": "2023-01-24T01:45:41.574697Z",
     "shell.execute_reply": "2023-01-24T01:45:41.573351Z"
    },
    "papermill": {
     "duration": 0.013708,
     "end_time": "2023-01-24T01:45:41.577126",
     "exception": false,
     "start_time": "2023-01-24T01:45:41.563418",
     "status": "completed"
    },
    "tags": []
   },
   "outputs": [],
   "source": [
    "#q3.hint()\n",
    "#q3.solution()"
   ]
  },
  {
   "cell_type": "markdown",
   "id": "1c9dc474",
   "metadata": {
    "papermill": {
     "duration": 0.005271,
     "end_time": "2023-01-24T01:45:41.588060",
     "exception": false,
     "start_time": "2023-01-24T01:45:41.582789",
     "status": "completed"
    },
    "tags": []
   },
   "source": [
    "## 4.\n",
    "\n",
    "Read the following csv dataset of wine reviews into a DataFrame called `reviews`:\n",
    "\n",
    "![](https://i.imgur.com/74RCZtU.png)\n",
    "\n",
    "The filepath to the csv file is `../input/wine-reviews/winemag-data_first150k.csv`. The first few lines look like:\n",
    "\n",
    "```\n",
    ",country,description,designation,points,price,province,region_1,region_2,variety,winery\n",
    "0,US,\"This tremendous 100% varietal wine[...]\",Martha's Vineyard,96,235.0,California,Napa Valley,Napa,Cabernet Sauvignon,Heitz\n",
    "1,Spain,\"Ripe aromas of fig, blackberry and[...]\",Carodorum Selección Especial Reserva,96,110.0,Northern Spain,Toro,,Tinta de Toro,Bodega Carmen Rodríguez\n",
    "```"
   ]
  },
  {
   "cell_type": "code",
   "execution_count": 8,
   "id": "e47b769a",
   "metadata": {
    "execution": {
     "iopub.execute_input": "2023-01-24T01:45:41.601345Z",
     "iopub.status.busy": "2023-01-24T01:45:41.600999Z",
     "iopub.status.idle": "2023-01-24T01:45:41.611684Z",
     "shell.execute_reply": "2023-01-24T01:45:41.610224Z"
    },
    "papermill": {
     "duration": 0.019906,
     "end_time": "2023-01-24T01:45:41.614156",
     "exception": false,
     "start_time": "2023-01-24T01:45:41.594250",
     "status": "completed"
    },
    "tags": []
   },
   "outputs": [
    {
     "data": {
      "application/javascript": [
       "parent.postMessage({\"jupyterEvent\": \"custom.exercise_interaction\", \"data\": {\"outcomeType\": 4, \"interactionType\": 1, \"questionType\": 1, \"questionId\": \"4_ReadWineCsv\", \"learnToolsVersion\": \"0.3.4\", \"valueTowardsCompletion\": 0.0, \"failureMessage\": \"\", \"exceptionClass\": \"\", \"trace\": \"\"}}, \"*\")"
      ],
      "text/plain": [
       "<IPython.core.display.Javascript object>"
      ]
     },
     "metadata": {},
     "output_type": "display_data"
    },
    {
     "data": {
      "text/markdown": [
       "<span style=\"color:#ccaa33\">Check:</span> When you've updated the starter code, `check()` will tell you whether your code is correct. You need to update the code that creates variable `reviews`"
      ],
      "text/plain": [
       "Check: When you've updated the starter code, `check()` will tell you whether your code is correct. You need to update the code that creates variable `reviews`"
      ]
     },
     "metadata": {},
     "output_type": "display_data"
    },
    {
     "data": {
      "text/markdown": [],
      "text/plain": [
       "<learntools.core.constants.PlaceholderValue at 0x7f16e5161550>"
      ]
     },
     "execution_count": 8,
     "metadata": {},
     "output_type": "execute_result"
    }
   ],
   "source": [
    "reviews = ____\n",
    "\n",
    "# Check your answer\n",
    "q4.check()\n",
    "reviews"
   ]
  },
  {
   "cell_type": "code",
   "execution_count": 9,
   "id": "3804095e",
   "metadata": {
    "execution": {
     "iopub.execute_input": "2023-01-24T01:45:41.627549Z",
     "iopub.status.busy": "2023-01-24T01:45:41.627190Z",
     "iopub.status.idle": "2023-01-24T01:45:41.630760Z",
     "shell.execute_reply": "2023-01-24T01:45:41.629978Z"
    },
    "papermill": {
     "duration": 0.012205,
     "end_time": "2023-01-24T01:45:41.632333",
     "exception": false,
     "start_time": "2023-01-24T01:45:41.620128",
     "status": "completed"
    },
    "tags": []
   },
   "outputs": [],
   "source": [
    "#q4.hint()\n",
    "#q4.solution()"
   ]
  },
  {
   "cell_type": "markdown",
   "id": "085d8757",
   "metadata": {
    "papermill": {
     "duration": 0.005386,
     "end_time": "2023-01-24T01:45:41.643586",
     "exception": false,
     "start_time": "2023-01-24T01:45:41.638200",
     "status": "completed"
    },
    "tags": []
   },
   "source": [
    "## 5.\n",
    "\n",
    "Run the cell below to create and display a DataFrame called `animals`:"
   ]
  },
  {
   "cell_type": "code",
   "execution_count": 10,
   "id": "51aa2521",
   "metadata": {
    "execution": {
     "iopub.execute_input": "2023-01-24T01:45:41.656357Z",
     "iopub.status.busy": "2023-01-24T01:45:41.655996Z",
     "iopub.status.idle": "2023-01-24T01:45:41.667375Z",
     "shell.execute_reply": "2023-01-24T01:45:41.666000Z"
    },
    "papermill": {
     "duration": 0.020578,
     "end_time": "2023-01-24T01:45:41.669743",
     "exception": false,
     "start_time": "2023-01-24T01:45:41.649165",
     "status": "completed"
    },
    "tags": []
   },
   "outputs": [
    {
     "data": {
      "text/html": [
       "<div>\n",
       "<style scoped>\n",
       "    .dataframe tbody tr th:only-of-type {\n",
       "        vertical-align: middle;\n",
       "    }\n",
       "\n",
       "    .dataframe tbody tr th {\n",
       "        vertical-align: top;\n",
       "    }\n",
       "\n",
       "    .dataframe thead th {\n",
       "        text-align: right;\n",
       "    }\n",
       "</style>\n",
       "<table border=\"1\" class=\"dataframe\">\n",
       "  <thead>\n",
       "    <tr style=\"text-align: right;\">\n",
       "      <th></th>\n",
       "      <th>Cows</th>\n",
       "      <th>Goats</th>\n",
       "    </tr>\n",
       "  </thead>\n",
       "  <tbody>\n",
       "    <tr>\n",
       "      <th>Year 1</th>\n",
       "      <td>12</td>\n",
       "      <td>22</td>\n",
       "    </tr>\n",
       "    <tr>\n",
       "      <th>Year 2</th>\n",
       "      <td>20</td>\n",
       "      <td>19</td>\n",
       "    </tr>\n",
       "  </tbody>\n",
       "</table>\n",
       "</div>"
      ],
      "text/plain": [
       "        Cows  Goats\n",
       "Year 1    12     22\n",
       "Year 2    20     19"
      ]
     },
     "execution_count": 10,
     "metadata": {},
     "output_type": "execute_result"
    }
   ],
   "source": [
    "animals = pd.DataFrame({'Cows': [12, 20], 'Goats': [22, 19]}, index=['Year 1', 'Year 2'])\n",
    "animals"
   ]
  },
  {
   "cell_type": "markdown",
   "id": "c2f04bb8",
   "metadata": {
    "papermill": {
     "duration": 0.005708,
     "end_time": "2023-01-24T01:45:41.682534",
     "exception": false,
     "start_time": "2023-01-24T01:45:41.676826",
     "status": "completed"
    },
    "tags": []
   },
   "source": [
    "In the cell below, write code to save this DataFrame to disk as a csv file with the name `cows_and_goats.csv`."
   ]
  },
  {
   "cell_type": "code",
   "execution_count": 11,
   "id": "ca8f0bde",
   "metadata": {
    "execution": {
     "iopub.execute_input": "2023-01-24T01:45:41.696008Z",
     "iopub.status.busy": "2023-01-24T01:45:41.695598Z",
     "iopub.status.idle": "2023-01-24T01:45:41.703860Z",
     "shell.execute_reply": "2023-01-24T01:45:41.702477Z"
    },
    "papermill": {
     "duration": 0.017463,
     "end_time": "2023-01-24T01:45:41.705914",
     "exception": false,
     "start_time": "2023-01-24T01:45:41.688451",
     "status": "completed"
    },
    "tags": []
   },
   "outputs": [
    {
     "data": {
      "application/javascript": [
       "parent.postMessage({\"jupyterEvent\": \"custom.exercise_interaction\", \"data\": {\"outcomeType\": 2, \"failureMessage\": \"Expected file to exist with name `cows_and_goats.csv`\", \"interactionType\": 1, \"questionType\": 2, \"questionId\": \"5_SaveAnimalsCsv\", \"learnToolsVersion\": \"0.3.4\", \"valueTowardsCompletion\": 0.0, \"exceptionClass\": \"\", \"trace\": \"\"}}, \"*\")"
      ],
      "text/plain": [
       "<IPython.core.display.Javascript object>"
      ]
     },
     "metadata": {},
     "output_type": "display_data"
    },
    {
     "data": {
      "text/markdown": [
       "<span style=\"color:#cc3333\">Incorrect:</span> Expected file to exist with name `cows_and_goats.csv`"
      ],
      "text/plain": [
       "Incorrect: Expected file to exist with name `cows_and_goats.csv`"
      ]
     },
     "metadata": {},
     "output_type": "display_data"
    }
   ],
   "source": [
    "# Your code goes here\n",
    "\n",
    "# Check your answer\n",
    "q5.check()"
   ]
  },
  {
   "cell_type": "code",
   "execution_count": 12,
   "id": "d02610fd",
   "metadata": {
    "execution": {
     "iopub.execute_input": "2023-01-24T01:45:41.720501Z",
     "iopub.status.busy": "2023-01-24T01:45:41.720118Z",
     "iopub.status.idle": "2023-01-24T01:45:41.724035Z",
     "shell.execute_reply": "2023-01-24T01:45:41.723133Z"
    },
    "papermill": {
     "duration": 0.013622,
     "end_time": "2023-01-24T01:45:41.726059",
     "exception": false,
     "start_time": "2023-01-24T01:45:41.712437",
     "status": "completed"
    },
    "tags": []
   },
   "outputs": [],
   "source": [
    "#q5.hint()\n",
    "#q5.solution()"
   ]
  },
  {
   "cell_type": "markdown",
   "id": "6a6362e2",
   "metadata": {
    "papermill": {
     "duration": 0.006125,
     "end_time": "2023-01-24T01:45:41.738771",
     "exception": false,
     "start_time": "2023-01-24T01:45:41.732646",
     "status": "completed"
    },
    "tags": []
   },
   "source": [
    "# Keep going\n",
    "\n",
    "Move on to learn about **[indexing, selecting and assigning](https://www.kaggle.com/residentmario/indexing-selecting-assigning)**."
   ]
  },
  {
   "cell_type": "markdown",
   "id": "09c25c6f",
   "metadata": {
    "papermill": {
     "duration": 0.00612,
     "end_time": "2023-01-24T01:45:41.751459",
     "exception": false,
     "start_time": "2023-01-24T01:45:41.745339",
     "status": "completed"
    },
    "tags": []
   },
   "source": [
    "---\n",
    "\n",
    "\n",
    "\n",
    "\n",
    "*Have questions or comments? Visit the [course discussion forum](https://www.kaggle.com/learn/pandas/discussion) to chat with other learners.*"
   ]
  }
 ],
 "metadata": {
  "kernelspec": {
   "display_name": "Python 3",
   "language": "python",
   "name": "python3"
  },
  "language_info": {
   "codemirror_mode": {
    "name": "ipython",
    "version": 3
   },
   "file_extension": ".py",
   "mimetype": "text/x-python",
   "name": "python",
   "nbconvert_exporter": "python",
   "pygments_lexer": "ipython3",
   "version": "3.7.12"
  },
  "papermill": {
   "default_parameters": {},
   "duration": 10.250502,
   "end_time": "2023-01-24T01:45:42.481111",
   "environment_variables": {},
   "exception": null,
   "input_path": "__notebook__.ipynb",
   "output_path": "__notebook__.ipynb",
   "parameters": {},
   "start_time": "2023-01-24T01:45:32.230609",
   "version": "2.3.4"
  }
 },
 "nbformat": 4,
 "nbformat_minor": 5
}
